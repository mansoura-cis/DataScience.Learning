{
 "nbformat": 4,
 "nbformat_minor": 2,
 "metadata": {
  "language_info": {
   "name": "python",
   "codemirror_mode": {
    "name": "ipython",
    "version": 3
   }
  },
  "orig_nbformat": 2,
  "file_extension": ".py",
  "mimetype": "text/x-python",
  "name": "python",
  "npconvert_exporter": "python",
  "pygments_lexer": "ipython3",
  "version": 3
 },
 "cells": [
  {
   "cell_type": "markdown",
   "metadata": {},
   "source": [
    "# MatplotLib Line Plot\n",
    "\n",
    "- is a plot in the form of a series of data points connected by straight line segments.\n",
    "\n",
    "- It is one of the most basic type of chart and is common in many fields not just data science. \n",
    "- The more important question is when to use line plots.\n",
    "\n",
    "    - The best use case for a line plot is when you have a continuous dataset and you're interested in visualizing the data over a period of time. \n"
   ]
  }
 ]
}